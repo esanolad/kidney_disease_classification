{
 "cells": [
  {
   "cell_type": "code",
   "execution_count": 2,
   "id": "initial_id",
   "metadata": {
    "collapsed": true,
    "ExecuteTime": {
     "end_time": "2024-03-20T06:41:29.754776Z",
     "start_time": "2024-03-20T06:41:29.670163Z"
    }
   },
   "outputs": [
    {
     "data": {
      "text/plain": "'3.3.0'"
     },
     "execution_count": 2,
     "metadata": {},
     "output_type": "execute_result"
    }
   ],
   "source": [
    "# brew install cmake libomp   for mac silicon\n",
    "#import libraries\n",
    "from pycaret.utils import version\n",
    "import numpy as np\n",
    "import matplotlib.pyplot as plt\n",
    "import seaborn as sns\n",
    "sns.set_theme(style=\"darkgrid\")\n",
    "import pandas as pd\n",
    "plt.rcParams['figure.figsize'] = (7,5)\n",
    "\n",
    "from sklearn.decomposition import PCA\n",
    "from sklearn.preprocessing import StandardScaler\n"
   ]
  },
  {
   "cell_type": "code",
   "execution_count": 7,
   "outputs": [
    {
     "name": "stdout",
     "output_type": "stream",
     "text": [
      "pycaret version is:  3.3.0\n",
      "Pandas version:  2.1.4\n",
      "Seaborn version:  0.13.2\n"
     ]
    }
   ],
   "source": [
    "print(\"pycaret version is: \", version())\n",
    "print(\"Pandas version: \", pd.__version__)\n",
    "print(\"Seaborn version: \", sns.__version__)"
   ],
   "metadata": {
    "collapsed": false,
    "ExecuteTime": {
     "end_time": "2024-03-20T06:50:21.513193Z",
     "start_time": "2024-03-20T06:50:21.508471Z"
    }
   },
   "id": "3b529a93c5010f64"
  },
  {
   "cell_type": "code",
   "execution_count": 8,
   "outputs": [
    {
     "data": {
      "text/plain": "      Bp     Sg   Al   Su  Rbc     Bu    Sc     Sod   Pot  Hemo     Wbcc  \\\n0   80.0  1.020  1.0  0.0  1.0   36.0   1.2  137.53  4.63  15.4   7800.0   \n1   50.0  1.020  4.0  0.0  1.0   18.0   0.8  137.53  4.63  11.3   6000.0   \n2   80.0  1.010  2.0  3.0  1.0   53.0   1.8  137.53  4.63   9.6   7500.0   \n3   70.0  1.005  4.0  0.0  1.0   56.0   3.8  111.00  2.50  11.2   6700.0   \n4   80.0  1.010  2.0  0.0  1.0   26.0   1.4  137.53  4.63  11.6   7300.0   \n5   90.0  1.015  3.0  0.0  1.0   25.0   1.1  142.00  3.20  12.2   7800.0   \n6   70.0  1.010  0.0  0.0  1.0   54.0  24.0  104.00  4.00  12.4   8406.0   \n7   76.0  1.015  2.0  4.0  1.0   31.0   1.1  137.53  4.63  12.4   6900.0   \n8  100.0  1.015  3.0  0.0  1.0   60.0   1.9  137.53  4.63  10.8   9600.0   \n9   90.0  1.020  2.0  0.0  0.0  107.0   7.2  114.00  3.70   9.5  12100.0   \n\n   Rbcc  Htn  Class  \n0  5.20  1.0      1  \n1  4.71  0.0      1  \n2  4.71  0.0      1  \n3  3.90  1.0      1  \n4  4.60  0.0      1  \n5  4.40  1.0      1  \n6  4.71  0.0      1  \n7  5.00  0.0      1  \n8  4.00  1.0      1  \n9  3.70  1.0      1  ",
      "text/html": "<div>\n<style scoped>\n    .dataframe tbody tr th:only-of-type {\n        vertical-align: middle;\n    }\n\n    .dataframe tbody tr th {\n        vertical-align: top;\n    }\n\n    .dataframe thead th {\n        text-align: right;\n    }\n</style>\n<table border=\"1\" class=\"dataframe\">\n  <thead>\n    <tr style=\"text-align: right;\">\n      <th></th>\n      <th>Bp</th>\n      <th>Sg</th>\n      <th>Al</th>\n      <th>Su</th>\n      <th>Rbc</th>\n      <th>Bu</th>\n      <th>Sc</th>\n      <th>Sod</th>\n      <th>Pot</th>\n      <th>Hemo</th>\n      <th>Wbcc</th>\n      <th>Rbcc</th>\n      <th>Htn</th>\n      <th>Class</th>\n    </tr>\n  </thead>\n  <tbody>\n    <tr>\n      <th>0</th>\n      <td>80.0</td>\n      <td>1.020</td>\n      <td>1.0</td>\n      <td>0.0</td>\n      <td>1.0</td>\n      <td>36.0</td>\n      <td>1.2</td>\n      <td>137.53</td>\n      <td>4.63</td>\n      <td>15.4</td>\n      <td>7800.0</td>\n      <td>5.20</td>\n      <td>1.0</td>\n      <td>1</td>\n    </tr>\n    <tr>\n      <th>1</th>\n      <td>50.0</td>\n      <td>1.020</td>\n      <td>4.0</td>\n      <td>0.0</td>\n      <td>1.0</td>\n      <td>18.0</td>\n      <td>0.8</td>\n      <td>137.53</td>\n      <td>4.63</td>\n      <td>11.3</td>\n      <td>6000.0</td>\n      <td>4.71</td>\n      <td>0.0</td>\n      <td>1</td>\n    </tr>\n    <tr>\n      <th>2</th>\n      <td>80.0</td>\n      <td>1.010</td>\n      <td>2.0</td>\n      <td>3.0</td>\n      <td>1.0</td>\n      <td>53.0</td>\n      <td>1.8</td>\n      <td>137.53</td>\n      <td>4.63</td>\n      <td>9.6</td>\n      <td>7500.0</td>\n      <td>4.71</td>\n      <td>0.0</td>\n      <td>1</td>\n    </tr>\n    <tr>\n      <th>3</th>\n      <td>70.0</td>\n      <td>1.005</td>\n      <td>4.0</td>\n      <td>0.0</td>\n      <td>1.0</td>\n      <td>56.0</td>\n      <td>3.8</td>\n      <td>111.00</td>\n      <td>2.50</td>\n      <td>11.2</td>\n      <td>6700.0</td>\n      <td>3.90</td>\n      <td>1.0</td>\n      <td>1</td>\n    </tr>\n    <tr>\n      <th>4</th>\n      <td>80.0</td>\n      <td>1.010</td>\n      <td>2.0</td>\n      <td>0.0</td>\n      <td>1.0</td>\n      <td>26.0</td>\n      <td>1.4</td>\n      <td>137.53</td>\n      <td>4.63</td>\n      <td>11.6</td>\n      <td>7300.0</td>\n      <td>4.60</td>\n      <td>0.0</td>\n      <td>1</td>\n    </tr>\n    <tr>\n      <th>5</th>\n      <td>90.0</td>\n      <td>1.015</td>\n      <td>3.0</td>\n      <td>0.0</td>\n      <td>1.0</td>\n      <td>25.0</td>\n      <td>1.1</td>\n      <td>142.00</td>\n      <td>3.20</td>\n      <td>12.2</td>\n      <td>7800.0</td>\n      <td>4.40</td>\n      <td>1.0</td>\n      <td>1</td>\n    </tr>\n    <tr>\n      <th>6</th>\n      <td>70.0</td>\n      <td>1.010</td>\n      <td>0.0</td>\n      <td>0.0</td>\n      <td>1.0</td>\n      <td>54.0</td>\n      <td>24.0</td>\n      <td>104.00</td>\n      <td>4.00</td>\n      <td>12.4</td>\n      <td>8406.0</td>\n      <td>4.71</td>\n      <td>0.0</td>\n      <td>1</td>\n    </tr>\n    <tr>\n      <th>7</th>\n      <td>76.0</td>\n      <td>1.015</td>\n      <td>2.0</td>\n      <td>4.0</td>\n      <td>1.0</td>\n      <td>31.0</td>\n      <td>1.1</td>\n      <td>137.53</td>\n      <td>4.63</td>\n      <td>12.4</td>\n      <td>6900.0</td>\n      <td>5.00</td>\n      <td>0.0</td>\n      <td>1</td>\n    </tr>\n    <tr>\n      <th>8</th>\n      <td>100.0</td>\n      <td>1.015</td>\n      <td>3.0</td>\n      <td>0.0</td>\n      <td>1.0</td>\n      <td>60.0</td>\n      <td>1.9</td>\n      <td>137.53</td>\n      <td>4.63</td>\n      <td>10.8</td>\n      <td>9600.0</td>\n      <td>4.00</td>\n      <td>1.0</td>\n      <td>1</td>\n    </tr>\n    <tr>\n      <th>9</th>\n      <td>90.0</td>\n      <td>1.020</td>\n      <td>2.0</td>\n      <td>0.0</td>\n      <td>0.0</td>\n      <td>107.0</td>\n      <td>7.2</td>\n      <td>114.00</td>\n      <td>3.70</td>\n      <td>9.5</td>\n      <td>12100.0</td>\n      <td>3.70</td>\n      <td>1.0</td>\n      <td>1</td>\n    </tr>\n  </tbody>\n</table>\n</div>"
     },
     "execution_count": 8,
     "metadata": {},
     "output_type": "execute_result"
    }
   ],
   "source": [
    "\n",
    "#read cvs file into dataframe\n",
    "df = pd.read_csv('chronic_kidney_disease.csv')\n",
    "df.head(10)"
   ],
   "metadata": {
    "collapsed": false,
    "ExecuteTime": {
     "end_time": "2024-03-20T06:55:38.348902Z",
     "start_time": "2024-03-20T06:55:38.314623Z"
    }
   },
   "id": "d893ec51dc0bedb6"
  },
  {
   "cell_type": "code",
   "execution_count": null,
   "outputs": [],
   "source": [],
   "metadata": {
    "collapsed": false
   },
   "id": "946b52430f342dce"
  }
 ],
 "metadata": {
  "kernelspec": {
   "display_name": "Python 3",
   "language": "python",
   "name": "python3"
  },
  "language_info": {
   "codemirror_mode": {
    "name": "ipython",
    "version": 2
   },
   "file_extension": ".py",
   "mimetype": "text/x-python",
   "name": "python",
   "nbconvert_exporter": "python",
   "pygments_lexer": "ipython2",
   "version": "2.7.6"
  }
 },
 "nbformat": 4,
 "nbformat_minor": 5
}
